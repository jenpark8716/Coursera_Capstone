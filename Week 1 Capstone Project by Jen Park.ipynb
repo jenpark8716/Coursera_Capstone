{
 "cells": [
  {
   "cell_type": "markdown",
   "metadata": {},
   "source": [
    "# Introduction/Business Problem"
   ]
  },
  {
   "cell_type": "markdown",
   "metadata": {},
   "source": [
    "As an expatriate in Singapore myself, I will be exploring Singapore using the factors such as rent prices, crime rate, population density as well as popular venues in this wonderful city-state. This analysis will be helpful for those who are exptriates like me, as well as prospective exptriates who are considering relocation to Singapore. Furthermore, I believe this analysis will be helpful for tourists who needs information to decide which accommodation to choose and where to go for sightseeing.\n",
    "    "
   ]
  },
  {
   "cell_type": "markdown",
   "metadata": {},
   "source": [
    "# Data"
   ]
  },
  {
   "cell_type": "markdown",
   "metadata": {},
   "source": [
    "I will be using several different dataset that I have found from open data portal run by the Singaporean governemtn in conjuction with Foursquare API. \n",
    "\n",
    "1) **Median Rent by Town and Flat Type**\n",
    "\n",
    "https://data.gov.sg/dataset/median-rent-by-town-and-flat-type\n",
    "\n",
    "\n",
    "2) **SLA Residential Property Rental Information**\n",
    "\n",
    "https://data.gov.sg/dataset/sla-residential-property-rental-information\n",
    "\n",
    "\n",
    "3) **Resident Population **\n",
    "\n",
    "https://www.singstat.gov.sg/find-data/search-by-theme/population/geographic-distribution/latest-data\n",
    "\n",
    "4) **Crime Cases**\n",
    "\n",
    "https://www.tablebuilder.singstat.gov.sg/publicfacing/createDataTable.action?refId=15649\n",
    "\n",
    "5) **Five Preventable Crime Cases Recorded by NPC**\n",
    "(The 5 P’s are robbery, housebreaking, snatch theft, theft of motor vehicle and outrage of modesty)\n",
    "\n",
    "https://data.gov.sg/dataset/five-preventable-crime-cases-recorded-by-npc\n",
    "\n",
    "6) **Subzone Census 2010 (Shape file)**\n",
    "\n",
    "https://data.gov.sg/dataset/subzone-census-2010?resource_id=a06f6269-d059-4f43-a582-33ad8ef4de8b\n",
    "\n",
    "7) **Foursquare API**\n"
   ]
  },
  {
   "cell_type": "code",
   "execution_count": null,
   "metadata": {},
   "outputs": [],
   "source": []
  }
 ],
 "metadata": {
  "kernelspec": {
   "display_name": "Python 3",
   "language": "python",
   "name": "python3"
  },
  "language_info": {
   "codemirror_mode": {
    "name": "ipython",
    "version": 3
   },
   "file_extension": ".py",
   "mimetype": "text/x-python",
   "name": "python",
   "nbconvert_exporter": "python",
   "pygments_lexer": "ipython3",
   "version": "3.8.5"
  }
 },
 "nbformat": 4,
 "nbformat_minor": 4
}
