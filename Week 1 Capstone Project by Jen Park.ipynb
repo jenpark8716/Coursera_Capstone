{
 "cells": [
  {
   "cell_type": "markdown",
   "metadata": {},
   "source": [
    "# Introduction/Business Problem"
   ]
  },
  {
   "cell_type": "markdown",
   "metadata": {},
   "source": [
    "As an expatriate in Singapore myself, I will be exploring Singapore using factors such as rent prices, crime rate, population density as well as popular venues in this wonderful city-state. This analysis will be helpful for those who are exptriates like me, as well as prospective exptriates who are considering relocation within/to Singapore. Furthermore, this analysis will also be helpful for tourists who needs information to decide which accommodation to choose and where to go for sightseeing in Singapore.\n",
    "    "
   ]
  },
  {
   "cell_type": "markdown",
   "metadata": {},
   "source": [
    "# Data"
   ]
  },
  {
   "cell_type": "markdown",
   "metadata": {},
   "source": [
    "I will be using several different dataset that I have found from open data portal run by the Singaporean governemtn in conjuction with Foursquare API. \n",
    "\n",
    "1) **Median Rent by Town and Flat Type** <br>\n",
    ": This dataset provides rent prices associated with residential types and neighborhoods. We will use Choropleth plotting to easily see overall rent in Singapore.\n",
    "\n",
    "https://data.gov.sg/dataset/median-rent-by-town-and-flat-type\n",
    "\n",
    "2) **Resident Population** <br>\n",
    ": This dataset consists of information regarding population in each neighborhood of Singapore. In this analysis, this data will be used to analyze population density in Singapore. \n",
    "\n",
    "https://www.singstat.gov.sg/find-data/search-by-theme/population/geographic-distribution/latest-data\n",
    "\n",
    "3) **Crime Cases** <br>\n",
    ": Crime Cases dataset includes information concerning what types of crime have been prevalent in Singapore over time. I will be using the most recenet data in a pie chart form to see what kind of crime has been frequently occurred in Singapore.\n",
    "\n",
    "https://www.tablebuilder.singstat.gov.sg/publicfacing/createDataTable.action?refId=15649\n",
    "\n",
    "4) **Five Preventable Crime Cases Recorded by NPC**\n",
    "The 5 P’s here represent robbery, housebreaking, snatch theft, theft of motor vehicle and outrage of modesty. This dataset will be another set that will be useful if used in a Choropleth format. \n",
    "\n",
    "https://data.gov.sg/dataset/five-preventable-crime-cases-recorded-by-npc\n",
    "\n",
    "5) **Subzone Census 2010 (Shape file)**\n",
    "This data is a shape file which contains a geospatial information of Singapore. In conjuction with the above sets of data, the precise map of Singapore will be created in this report. \n",
    "\n",
    "https://data.gov.sg/dataset/subzone-census-2010?resource_id=a06f6269-d059-4f43-a582-33ad8ef4de8b\n",
    "\n",
    "6) **Foursquare API**\n",
    "\n",
    "We will need data about different venues in different neighborhoods of that specific borough. In order to gain that information, we will use \"Foursquare\" locational information. Foursquare is a location data provider with information about all manner of venues and events within an area of interest. Such information includes venue names, locations, menus and even photos. As such, the foursquare location platform will be used as the sole data source since all the stated required information can be obtained through the API.\n",
    "\n",
    "After finding the list of neighborhoods, we then connect to the Foursquare API to gather information about venues inside every neighborhood. For each neighborhood, we have chosen the radius to be 500 meters.\n",
    "The data retrieved from Foursquare contained information of venues within a specified distance of the longitude and latitude of the postcodes. The information obtained per venue as follows:\n",
    "\n",
    "\n",
    "Neighborhood: Name of the Neighborhood <br>\n",
    "Neighborhood Latitude: Latitude of the Neighborhood <br>\n",
    "Neighborhood Longitude: Longitude of the Neighborhood <br>\n",
    "Venue: Name of the Venue <br>\n",
    "Venue Latitude: Latitude of Venue <br>\n",
    "Venue Longitude: Longitude of Venue<br>\n",
    "Venue Category: Category of Venue<br>\n",
    "\n",
    "\n",
    "Based on all the information collected for both Toronto and New York City, we have sufficient data to build our model. We cluster the neighborhoods together based on similar venue categories. We then present our observations and findings. Using this data, our stakeholders can take the necessary decision.\n",
    "\n"
   ]
  },
  {
   "cell_type": "markdown",
   "metadata": {},
   "source": [
    "# Methodology"
   ]
  },
  {
   "cell_type": "code",
   "execution_count": null,
   "metadata": {},
   "outputs": [],
   "source": [
    "import numpy as np\n",
    "import pandas as pd\n",
    "from pandas.api.types import is_string_dtype\n",
    "from pandas.api.types import is_numeric_dtype\n",
    "import seaborn as sns\n",
    "import matplotlib.pyplot as plt\n",
    "import csv\n",
    "import json\n",
    "import folium\n",
    "from folium import plugins\n",
    "from folium.plugins import FastMarkerCluster\n",
    "from folium.plugins import TimestampedGeoJson\n",
    "import datetime\n",
    "import geopandas as gpd\n",
    "from mpl_toolkits.axes_grid1 import make_axes_locatable\n",
    "import matplotlib.colors\n",
    "from shapely.geometry import Point\n",
    "!pip install adjustText\n",
    "import adjustText as aT"
   ]
  }
 ],
 "metadata": {
  "kernelspec": {
   "display_name": "Python 3",
   "language": "python",
   "name": "python3"
  },
  "language_info": {
   "codemirror_mode": {
    "name": "ipython",
    "version": 3
   },
   "file_extension": ".py",
   "mimetype": "text/x-python",
   "name": "python",
   "nbconvert_exporter": "python",
   "pygments_lexer": "ipython3",
   "version": "3.8.5"
  }
 },
 "nbformat": 4,
 "nbformat_minor": 4
}
